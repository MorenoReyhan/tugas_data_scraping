{
 "cells": [
  {
   "cell_type": "code",
   "execution_count": 13,
   "metadata": {},
   "outputs": [],
   "source": [
    "from selenium import webdriver\n",
    "import pandas as pd\n",
    "from selenium.webdriver.common.by import By\n",
    "from selenium.webdriver.common.action_chains import ActionChains"
   ]
  },
  {
   "cell_type": "code",
   "execution_count": 14,
   "metadata": {},
   "outputs": [],
   "source": [
    "url = 'https://www.bhinneka.com/jual?cari=guitar+electric'\n",
    "driver = webdriver.Chrome()\n",
    "driver.get(url)"
   ]
  },
  {
   "cell_type": "code",
   "execution_count": 15,
   "metadata": {},
   "outputs": [
    {
     "name": "stdout",
     "output_type": "stream",
     "text": [
      "[('CORT Electric Guitar G260DX Tobacco Burst', 5375000, 'Tanjung Priok', 'Bhinneka'), ('CORT Electric Guitar G260DX Sea Foam Green', 5375000, 'Tanjung Priok', 'Bhinneka'), ('ERNIE BALL Regular Slinky Electric Guitar Strings 3221', 252500, 'Tanjung Priok', 'Bhinneka'), ('ERNIE BALL Hybrid Slinky Nickel Wound Electric Guitar Strings 2222', 111000, 'Tanjung Priok', 'Bhinneka'), ('ERNIE BALL Super Slinky RPS Nickel Wound Electric Guitar Strings 2239', 131500, 'Tanjung Priok', 'Bhinneka')]\n"
     ]
    }
   ],
   "source": [
    "ac = ActionChains(driver)\n",
    "products=[]\n",
    "items = driver.find_elements(By.CSS_SELECTOR, 'div.col.css-mz9zn6')\n",
    "for item in items:\n",
    "    product_name = item.find_element(By.CSS_SELECTOR, 'p.css-194yrqz').text\n",
    "    product_price = int(item.find_element(By.CSS_SELECTOR, 'div.price').text.replace('Rp', '').replace('.', '').strip())\n",
    "    location = item.find_element(By.CSS_SELECTOR, 'div.merchant-info.css-ejq1bh').find_elements(By.TAG_NAME, 'span')[0].text\n",
    "\n",
    "    mo = item.find_element(By.CSS_SELECTOR, 'a.product-wrapper.css-puqsxn')\n",
    "    ac.move_to_element(mo).perform()\n",
    "    shopper = item.find_element(By.CSS_SELECTOR, 'div.merchant-info.css-ejq1bh').find_elements(By.TAG_NAME, 'span')[1].text\n",
    "\n",
    "    products.append(\n",
    "        (product_name, product_price, location, shopper)\n",
    "    )\n",
    "\n",
    "print(products)\n",
    "\n",
    "#product_name = driver.find_elements(By.CSS_SELECTOR, 'div.col.css-mz9zn6')[0].find_element(By.CSS_SELECTOR, 'p.css-194yrqz').text\n",
    "#product_price = driver.find_elements(By.CSS_SELECTOR, 'div.col.css-mz9zn6')[0].find_element(By.CSS_SELECTOR, 'div.price').text.replace('Rp', '').replace('.', '')\n",
    "#location = driver.find_elements(By.CSS_SELECTOR, 'div.col.css-mz9zn6')[0].find_element(By.CSS_SELECTOR, 'div.merchant-info.css-ejq1bh').find_elements(By.TAG_NAME, 'span')[0].text\n",
    "\n",
    "#ac = ActionChains(driver)\n",
    "#mo = driver.find_elements(By.CSS_SELECTOR, 'div.col.css-mz9zn6')[0].find_element(By.CSS_SELECTOR, 'a.product-wrapper.css-puqsxn')\n",
    "#ac.move_to_element(mo).perform()\n",
    "#shopper = driver.find_elements(By.CSS_SELECTOR, 'div.col.css-mz9zn6')[0].find_element(By.CSS_SELECTOR, 'div.merchant-info.css-ejq1bh').find_elements(By.TAG_NAME, 'span')[1].text\n",
    "\n",
    "#print(product_name)\n",
    "#print(product_price)\n",
    "#print(location)\n",
    "#print(shopper)"
   ]
  },
  {
   "cell_type": "code",
   "execution_count": 16,
   "metadata": {},
   "outputs": [
    {
     "name": "stdout",
     "output_type": "stream",
     "text": [
      "                                        product_name  product_price  \\\n",
      "0          CORT Electric Guitar G260DX Tobacco Burst        5375000   \n",
      "1         CORT Electric Guitar G260DX Sea Foam Green        5375000   \n",
      "2  ERNIE BALL Regular Slinky Electric Guitar Stri...         252500   \n",
      "3  ERNIE BALL Hybrid Slinky Nickel Wound Electric...         111000   \n",
      "4  ERNIE BALL Super Slinky RPS Nickel Wound Elect...         131500   \n",
      "\n",
      "        location   shopper  \n",
      "0  Tanjung Priok  Bhinneka  \n",
      "1  Tanjung Priok  Bhinneka  \n",
      "2  Tanjung Priok  Bhinneka  \n",
      "3  Tanjung Priok  Bhinneka  \n",
      "4  Tanjung Priok  Bhinneka  \n"
     ]
    }
   ],
   "source": [
    "df = pd.DataFrame(products, columns=['product_name', 'product_price', 'location', 'shopper'])\n",
    "print(df)"
   ]
  },
  {
   "cell_type": "code",
   "execution_count": 17,
   "metadata": {},
   "outputs": [
    {
     "name": "stdout",
     "output_type": "stream",
     "text": [
      "Data Saved To Local Disk\n"
     ]
    }
   ],
   "source": [
    "df.to_csv('Bhinneka.csv', index=False)\n",
    "print('Data Saved To Local Disk')"
   ]
  },
  {
   "cell_type": "code",
   "execution_count": 18,
   "metadata": {},
   "outputs": [],
   "source": [
    "driver.close()"
   ]
  }
 ],
 "metadata": {
  "kernelspec": {
   "display_name": "base",
   "language": "python",
   "name": "python3"
  },
  "language_info": {
   "codemirror_mode": {
    "name": "ipython",
    "version": 3
   },
   "file_extension": ".py",
   "mimetype": "text/x-python",
   "name": "python",
   "nbconvert_exporter": "python",
   "pygments_lexer": "ipython3",
   "version": "3.10.9"
  },
  "orig_nbformat": 4
 },
 "nbformat": 4,
 "nbformat_minor": 2
}
